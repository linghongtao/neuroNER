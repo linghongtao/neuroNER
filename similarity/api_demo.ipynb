{
 "cells": [
  {
   "cell_type": "code",
   "execution_count": 1,
   "metadata": {
    "collapsed": false
   },
   "outputs": [
    {
     "name": "stdout",
     "output_type": "stream",
     "text": [
      "['157', '1097']\n",
      "['467', '1097']\n",
      "['1097']\n",
      "('s_intra', (1.0, [[], (['ABA_REGION:1097'], 'located on same region')]), 's_inter', (0, []))\n"
     ]
    },
    {
     "data": {
      "text/plain": [
       "(1.0, [[], (['ABA_REGION:1097'], 'located on same region')])"
      ]
     },
     "execution_count": 1,
     "metadata": {},
     "output_type": "execute_result"
    }
   ],
   "source": [
    "from similarity import similarity\n",
    "\n",
    "# Computes the intra and inter semantic similarity between two neurons\n",
    "# in: n1@str, n2@str: the two neurons to measure similarity\n",
    "# out: (score:float, [(matching_properties, explanation@str)])\n",
    "#similarity('PV Layer 1 cortex acetylcholine neuron', 'Layer 1a striatum gaba fast-spiking neuron')\n",
    "similarity('Periventricular zone neuron', 'Hypothalamic medial zone neuron')"
   ]
  },
  {
   "cell_type": "code",
   "execution_count": null,
   "metadata": {
    "collapsed": true
   },
   "outputs": [],
   "source": [
    "import pandas as pd\n",
    "\n",
    "\n",
    "# download neuroelectro summary spreadsheet from URL and import into pandas data frame\n",
    "neuroelectro_dataset_url = \"http://dev.neuroelectro.org/static/src/article_ephys_metadata_curated.csv\"\n",
    "table = pd.read_csv(neuroelectro_dataset_url, sep='\\t', index_col = 0, header=0)"
   ]
  },
  {
   "cell_type": "code",
   "execution_count": 49,
   "metadata": {
    "collapsed": true
   },
   "outputs": [],
   "source": [
    "from allensdk.core.mouse_connectivity_cache import MouseConnectivityCache\n"
   ]
  },
  {
   "cell_type": "code",
   "execution_count": 50,
   "metadata": {
    "collapsed": true
   },
   "outputs": [],
   "source": [
    "mcc = MouseConnectivityCache()\n",
    "onto = mcc.get_ontology()\n",
    "dataframe = onto.df"
   ]
  },
  {
   "cell_type": "code",
   "execution_count": 7,
   "metadata": {
    "collapsed": false
   },
   "outputs": [
    {
     "data": {
      "text/plain": [
       "id\n",
       "997                997\n",
       "8                    8\n",
       "567                567\n",
       "688                688\n",
       "695                695\n",
       "315                315\n",
       "184                184\n",
       "68                  68\n",
       "667                667\n",
       "500                500\n",
       "107                107\n",
       "219                219\n",
       "299                299\n",
       "644                644\n",
       "947                947\n",
       "985                985\n",
       "320                320\n",
       "943                943\n",
       "648                648\n",
       "844                844\n",
       "882                882\n",
       "993                993\n",
       "656                656\n",
       "962                962\n",
       "767                767\n",
       "1021              1021\n",
       "1085              1085\n",
       "453                453\n",
       "12993            12993\n",
       "12994            12994\n",
       "               ...    \n",
       "116                116\n",
       "124                124\n",
       "129                129\n",
       "140                140\n",
       "145                145\n",
       "153                153\n",
       "164                164\n",
       "1024              1024\n",
       "1032              1032\n",
       "1055              1055\n",
       "1063              1063\n",
       "1071              1071\n",
       "1078              1078\n",
       "1040              1040\n",
       "1087              1087\n",
       "1095              1095\n",
       "1103              1103\n",
       "1112              1112\n",
       "1119              1119\n",
       "3                    3\n",
       "11                  11\n",
       "18                  18\n",
       "25                  25\n",
       "34                  34\n",
       "43                  43\n",
       "49                  49\n",
       "57                  57\n",
       "65                  65\n",
       "624                624\n",
       "304325711    304325711\n",
       "Name: id, dtype: int64"
      ]
     },
     "execution_count": 7,
     "metadata": {},
     "output_type": "execute_result"
    }
   ],
   "source": [
    "dataframe.id"
   ]
  },
  {
   "cell_type": "code",
   "execution_count": 47,
   "metadata": {
    "collapsed": false
   },
   "outputs": [
    {
     "name": "stdout",
     "output_type": "stream",
     "text": [
      "[[0, 20, 'Periventricular zone', u'UNKN_REGION:3767'], [0, 20, 'Periventricular zone', u'ABA_REGION:157'], [21, 27, 'neuron', u'Missing'], [21, 27, 'neuron', u'Missing'], [21, 27, 'neuron', u'NeuronTrigger'], [28, 35, 'Layer 1', u'HBP_LAYER:0000001'], [36, 45, 'pyramidal', u'HBP_MORPHOLOGY:0000001'], [46, 50, 'cell', u'NeuronTrigger']]\n"
     ]
    }
   ],
   "source": [
    "from sherlok import Sherlok\n",
    "s = Sherlok('neuroner')\n",
    "\n",
    "neuron_name = 'Periventricular zone neuron Layer 1 pyramidal cell'\n",
    "r = s.annotate(neuron_name)\n",
    "annot_list = format_annots(neuron_name, r.annotations)\n",
    "\n",
    "print annot_list"
   ]
  },
  {
   "cell_type": "code",
   "execution_count": 18,
   "metadata": {
    "collapsed": true
   },
   "outputs": [],
   "source": [
    "from operator import itemgetter\n",
    "from itertools import groupby\n",
    "\n",
    "def format_annots(neuron_long_name, annotations):\n",
    "    \"\"\"Turns sherlok neuroner annotations into a nicely formatted annotation list\"\"\"\n",
    "    \n",
    "    filt_attrib_list = ['Neuron', 'PreNeuron', 'PostNeuron', 'Electrophysiology', 'ProteinTrigger']\n",
    "    new_annots = []\n",
    "    for a in annotations:\n",
    "        if a[3] not in filt_attrib_list:\n",
    "            new_annots.append(a)\n",
    "    new_annots = sorted(new_annots, key= lambda tup: tup[0])\n",
    "    \n",
    "    struct_annots = []\n",
    "    for a in new_annots:\n",
    "        l = [a[0], a[1], a[2]]\n",
    "        if 'ontologyId' in a[4]:\n",
    "             l.append(a[4]['ontologyId'])\n",
    "        else:\n",
    "            l.append(a[3])\n",
    "        struct_annots.append(l)\n",
    "    \n",
    "    # do some stuff to return missing terms - really crappy code\n",
    "    nl = []\n",
    "    for a in struct_annots:\n",
    "        for i in range(a[0],a[1]):\n",
    "            nl.append(i)\n",
    "        nl.append(i+1)\n",
    "    \n",
    "    unfound_inds = []\n",
    "    for i in range(1,len(neuron_long_name)):\n",
    "        if i in nl:\n",
    "            continue\n",
    "        else:\n",
    "            unfound_inds.append(i)\n",
    "            \n",
    "    data = unfound_inds\n",
    "    ranges = []\n",
    "    for k, g in groupby(enumerate(data), lambda (i,x):i-x):\n",
    "        group = map(itemgetter(1), g)\n",
    "        ranges.append((group[0], group[-1]))\n",
    "        \n",
    "    for r in ranges:\n",
    "        l = [r[0], r[1], neuron_long_name[r[0]:(r[1]+1)], 'Missing']\n",
    "        struct_annots.append(l)\n",
    "    struct_annots = sorted(struct_annots, key= lambda tup: tup[0])\n",
    "    \n",
    "    return struct_annots"
   ]
  },
  {
   "cell_type": "code",
   "execution_count": 38,
   "metadata": {
    "collapsed": false
   },
   "outputs": [],
   "source": [
    "import oboparser\n",
    "\n",
    "import yaml\n",
    "import glob\n",
    "\n",
    "with open(\"config.yml\", 'r') as ymlfile:\n",
    "    cfg = yaml.load(ymlfile)\n",
    "onto_root = cfg['onto_root']\n",
    "\n",
    "big_onto = {}\n",
    "\n",
    "file_name_list = [f for f in glob.glob(onto_root+ \"*.robo\")]\n",
    "file_name_list.extend([f for f in glob.glob(onto_root+ \"*.obo\")])\n",
    "#onto_file_names = [onto_root + 'GeneNames.obo', onto_root + 'hbp_morphology_ontology.obo']\n",
    "for fn in file_name_list:\n",
    "    for o in oboparser.parse(fn):\n",
    "        if 'id' in o:\n",
    "            big_onto[o['id']] = o"
   ]
  },
  {
   "cell_type": "code",
   "execution_count": 39,
   "metadata": {
    "collapsed": false
   },
   "outputs": [
    {
     "data": {
      "text/plain": [
       "defaultdict(<type 'list'>, {'acronym': ['L1'], 'rsynonym': ['\"[Ll]ayer[- ]?[1I]\" EXACT ALTERNATE_SPELLING []', '\"[Ll]1\" BROAD ACRONYM []'], '@type': 'Term', 'name': 'layer 1', 'id': 'HBP_LAYER:0000001'})"
      ]
     },
     "execution_count": 39,
     "metadata": {},
     "output_type": "execute_result"
    }
   ],
   "source": [
    "big_onto[u'HBP_LAYER:0000001']"
   ]
  },
  {
   "cell_type": "code",
   "execution_count": 54,
   "metadata": {
    "collapsed": false
   },
   "outputs": [
    {
     "name": "stdout",
     "output_type": "stream",
     "text": [
      "Periventricular zone\n",
      "PVZ\n",
      "neuron\n",
      "neuron\n",
      "neuron\n",
      "L1\n",
      "Pyr\n",
      "cell\n"
     ]
    }
   ],
   "source": [
    "def shorten_annotation(annot_list):\n",
    "    for a in annot_list:\n",
    "        if 'HBP' in a[3]:\n",
    "            if 'acronym' in big_onto[a[3]]:\n",
    "                print big_onto[a[3]]['acronym'][0]\n",
    "            else:\n",
    "                print big_onto[a[3]]['name']\n",
    "        elif 'ABA' in a[3]:\n",
    "            reg_id = int(a[3][11:])\n",
    "            print onto[reg_id].acronym.item()\n",
    "        else:\n",
    "            print a[2]"
   ]
  },
  {
   "cell_type": "code",
   "execution_count": null,
   "metadata": {
    "collapsed": true
   },
   "outputs": [],
   "source": []
  }
 ],
 "metadata": {
  "kernelspec": {
   "display_name": "Python 2",
   "language": "python",
   "name": "python2"
  },
  "language_info": {
   "codemirror_mode": {
    "name": "ipython",
    "version": 2
   },
   "file_extension": ".py",
   "mimetype": "text/x-python",
   "name": "python",
   "nbconvert_exporter": "python",
   "pygments_lexer": "ipython2",
   "version": "2.7.9"
  }
 },
 "nbformat": 4,
 "nbformat_minor": 0
}
