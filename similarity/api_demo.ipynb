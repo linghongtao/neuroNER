{
 "cells": [
  {
   "cell_type": "code",
   "execution_count": 1,
   "metadata": {
    "collapsed": false
   },
   "outputs": [
    {
     "name": "stdout",
     "output_type": "stream",
     "text": [
      "('s_intra', (1.0, [(['HBP_LAYER:0000001'], 'located on same Layer')]), 's_inter', (0.9, [(['HBP_EPHYS:0000080', 'HBP_EPHYS_TRIGGER:0000003', 'NCBI_GENE:19293'], 'implicit correspondance (TODO)')]))\n"
     ]
    },
    {
     "data": {
      "text/plain": [
       "(1.9,\n",
       " [(['HBP_LAYER:0000001'], 'located on same Layer'),\n",
       "  (['HBP_EPHYS:0000080', 'HBP_EPHYS_TRIGGER:0000003', 'NCBI_GENE:19293'],\n",
       "   'implicit correspondance (TODO)')])"
      ]
     },
     "execution_count": 1,
     "metadata": {},
     "output_type": "execute_result"
    }
   ],
   "source": [
    "from similarity import similarity\n",
    "\n",
    "# Computes the intra and inter semantic similarity between two neurons\n",
    "# in: n1@str, n2@str: the two neurons to measure similarity\n",
    "# out: (score:float, [(matching_properties, explanation@str)])\n",
    "similarity('PV Layer 1 acetylcholine neuron', 'Layer 1a gaba fast-spiking neuron')"
   ]
  },
  {
   "cell_type": "code",
   "execution_count": null,
   "metadata": {
    "collapsed": true
   },
   "outputs": [],
   "source": [
    "import pandas as pd\n",
    "\n",
    "\n",
    "# download neuroelectro summary spreadsheet from URL and import into pandas data frame\n",
    "neuroelectro_dataset_url = \"http://dev.neuroelectro.org/static/src/article_ephys_metadata_curated.csv\"\n",
    "table = pd.read_csv(neuroelectro_dataset_url, sep='\\t', index_col = 0, header=0)"
   ]
  }
 ],
 "metadata": {
  "kernelspec": {
   "display_name": "Python 2",
   "language": "python",
   "name": "python2"
  },
  "language_info": {
   "codemirror_mode": {
    "name": "ipython",
    "version": 2
   },
   "file_extension": ".py",
   "mimetype": "text/x-python",
   "name": "python",
   "nbconvert_exporter": "python",
   "pygments_lexer": "ipython2",
   "version": "2.7.10"
  }
 },
 "nbformat": 4,
 "nbformat_minor": 0
}
