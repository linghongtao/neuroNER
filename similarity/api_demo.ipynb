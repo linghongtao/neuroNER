{
 "cells": [
  {
   "cell_type": "code",
   "execution_count": 1,
   "metadata": {
    "collapsed": false
   },
   "outputs": [
    {
     "name": "stdout",
     "output_type": "stream",
     "text": [
      "('s_intra', (1.0, [[], (['ABA_REGION:1097'], 'located on same region')]), 's_inter', (0, []))\n"
     ]
    },
    {
     "data": {
      "text/plain": [
       "(1.0, [[], (['ABA_REGION:1097'], 'located on same region')])"
      ]
     },
     "execution_count": 1,
     "metadata": {},
     "output_type": "execute_result"
    }
   ],
   "source": [
    "from similarity import similarity\n",
    "\n",
    "# Computes the intra and inter semantic similarity between two neurons\n",
    "# in: n1@str, n2@str: the two neurons to measure similarity\n",
    "# out: (score:float, [(matching_properties, explanation@str)])\n",
    "#similarity('PV Layer 1 cortex acetylcholine neuron', 'Layer 1a striatum gaba fast-spiking neuron')\n",
    "similarity('Periventricular zone neuron', 'Hypothalamic medial zone neuron')"
   ]
  },
  {
   "cell_type": "code",
   "execution_count": null,
   "metadata": {
    "collapsed": true
   },
   "outputs": [],
   "source": [
    "import pandas as pd\n",
    "\n",
    "\n",
    "# download neuroelectro summary spreadsheet from URL and import into pandas data frame\n",
    "neuroelectro_dataset_url = \"http://dev.neuroelectro.org/static/src/article_ephys_metadata_curated.csv\"\n",
    "table = pd.read_csv(neuroelectro_dataset_url, sep='\\t', index_col = 0, header=0)"
   ]
  },
  {
   "cell_type": "code",
   "execution_count": 2,
   "metadata": {
    "collapsed": true
   },
   "outputs": [],
   "source": [
    "from allensdk.core.mouse_connectivity_cache import MouseConnectivityCache\n"
   ]
  },
  {
   "cell_type": "code",
   "execution_count": 5,
   "metadata": {
    "collapsed": true
   },
   "outputs": [],
   "source": [
    "mcc = MouseConnectivityCache()\n",
    "onto = mcc.get_ontology()\n",
    "dataframe = onto.df"
   ]
  },
  {
   "cell_type": "code",
   "execution_count": 7,
   "metadata": {
    "collapsed": false
   },
   "outputs": [
    {
     "data": {
      "text/plain": [
       "id\n",
       "997                997\n",
       "8                    8\n",
       "567                567\n",
       "688                688\n",
       "695                695\n",
       "315                315\n",
       "184                184\n",
       "68                  68\n",
       "667                667\n",
       "500                500\n",
       "107                107\n",
       "219                219\n",
       "299                299\n",
       "644                644\n",
       "947                947\n",
       "985                985\n",
       "320                320\n",
       "943                943\n",
       "648                648\n",
       "844                844\n",
       "882                882\n",
       "993                993\n",
       "656                656\n",
       "962                962\n",
       "767                767\n",
       "1021              1021\n",
       "1085              1085\n",
       "453                453\n",
       "12993            12993\n",
       "12994            12994\n",
       "               ...    \n",
       "116                116\n",
       "124                124\n",
       "129                129\n",
       "140                140\n",
       "145                145\n",
       "153                153\n",
       "164                164\n",
       "1024              1024\n",
       "1032              1032\n",
       "1055              1055\n",
       "1063              1063\n",
       "1071              1071\n",
       "1078              1078\n",
       "1040              1040\n",
       "1087              1087\n",
       "1095              1095\n",
       "1103              1103\n",
       "1112              1112\n",
       "1119              1119\n",
       "3                    3\n",
       "11                  11\n",
       "18                  18\n",
       "25                  25\n",
       "34                  34\n",
       "43                  43\n",
       "49                  49\n",
       "57                  57\n",
       "65                  65\n",
       "624                624\n",
       "304325711    304325711\n",
       "Name: id, dtype: int64"
      ]
     },
     "execution_count": 7,
     "metadata": {},
     "output_type": "execute_result"
    }
   ],
   "source": [
    "dataframe.id"
   ]
  },
  {
   "cell_type": "code",
   "execution_count": null,
   "metadata": {
    "collapsed": true
   },
   "outputs": [],
   "source": []
  }
 ],
 "metadata": {
  "kernelspec": {
   "display_name": "Python 2",
   "language": "python",
   "name": "python2"
  },
  "language_info": {
   "codemirror_mode": {
    "name": "ipython",
    "version": 2
   },
   "file_extension": ".py",
   "mimetype": "text/x-python",
   "name": "python",
   "nbconvert_exporter": "python",
   "pygments_lexer": "ipython2",
   "version": "2.7.9"
  }
 },
 "nbformat": 4,
 "nbformat_minor": 0
}
