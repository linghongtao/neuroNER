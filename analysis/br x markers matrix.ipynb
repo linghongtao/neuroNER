{
 "cells": [
  {
   "cell_type": "code",
   "execution_count": 10,
   "metadata": {
    "collapsed": false
   },
   "outputs": [
    {
     "name": "stdout",
     "output_type": "stream",
     "text": [
      "1940\n"
     ]
    }
   ],
   "source": [
    "'''\n",
    "Computes matrix brain_region x marker_genes\n",
    "'''\n",
    "import ijson\n",
    "from collections import defaultdict\n",
    "\n",
    "matrix_dict = defaultdict(dict)\n",
    "\n",
    "#f = open('neuroner_20160122s_index_sample2.json')\n",
    "f = open('/Users/richarde/data/neuroner/neuroner_20160122s_index.json') # data in https://dl.dropboxusercontent.com/u/975350/tmp/neuroner_20160122s_index.json.tgz\n",
    "docs = ijson.items(f, 'item')\n",
    "cnt = 0\n",
    "for d in docs:\n",
    "    pmid = d['_id']\n",
    "    for neuron in d['_source']['neuron']:\n",
    "        #print(neuron)\n",
    "        bregions = [nprop['onto_id'] for nprop in neuron['neuron_properties'] if nprop['neuron_type'] == 'brainregion']\n",
    "        genes =    [nprop['onto_id'] for nprop in neuron['neuron_properties'] if nprop['neuron_type'] == 'protein']\n",
    "\n",
    "        #print 'bregions', bregions, 'genes', genes\n",
    "        for bn in bregions:\n",
    "            for g in genes:\n",
    "                cnt += 1\n",
    "                #print bn, g\n",
    "                try:\n",
    "                    matrix_dict[bn][g] += 1\n",
    "                except Exception, e:\n",
    "                    matrix_dict[bn][g] = 1\n",
    "                    \n",
    "print cnt, 'co-occurences'"
   ]
  },
  {
   "cell_type": "code",
   "execution_count": 13,
   "metadata": {
    "collapsed": true
   },
   "outputs": [],
   "source": [
    "import pandas as pd\n",
    "\n",
    "mat = pd.DataFrame(matrix_dict)\n",
    "\n",
    "writer = pd.ExcelWriter('matrix_dict.xlsx')\n",
    "mat.to_excel(writer, 'sheet1')"
   ]
  },
  {
   "cell_type": "code",
   "execution_count": null,
   "metadata": {
    "collapsed": false
   },
   "outputs": [],
   "source": []
  },
  {
   "cell_type": "code",
   "execution_count": null,
   "metadata": {
    "collapsed": true
   },
   "outputs": [],
   "source": []
  }
 ],
 "metadata": {
  "kernelspec": {
   "display_name": "Python 2",
   "language": "python",
   "name": "python2"
  },
  "language_info": {
   "codemirror_mode": {
    "name": "ipython",
    "version": 2
   },
   "file_extension": ".py",
   "mimetype": "text/x-python",
   "name": "python",
   "nbconvert_exporter": "python",
   "pygments_lexer": "ipython2",
   "version": "2.7.10"
  }
 },
 "nbformat": 4,
 "nbformat_minor": 0
}
